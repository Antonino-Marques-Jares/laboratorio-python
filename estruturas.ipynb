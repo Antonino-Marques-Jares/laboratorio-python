{
 "cells": [
  {
   "cell_type": "code",
   "execution_count": 29,
   "metadata": {},
   "outputs": [],
   "source": [
    "import random\n",
    "random.seed(13)"
   ]
  },
  {
   "cell_type": "markdown",
   "metadata": {},
   "source": [
    "# Extrutura If, Elif e Else"
   ]
  },
  {
   "cell_type": "code",
   "execution_count": 30,
   "metadata": {},
   "outputs": [
    {
     "name": "stdout",
     "output_type": "stream",
     "text": [
      "Pode seguir em frente. O sinal está verde.\n"
     ]
    }
   ],
   "source": [
    "luz = 'verde'\n",
    "\n",
    "if (luz == 'verde'):\n",
    "    print('Pode seguir em frente. O sinal está verde.')\n",
    "elif (luz == 'amarelo'):\n",
    "    print('Atenção o sinal vai mudar ! O sinal está amarelo.')\n",
    "else:\n",
    "    print('Pare ! O sinal está vermelho.')"
   ]
  },
  {
   "cell_type": "markdown",
   "metadata": {},
   "source": [
    "# Estrutura de Repetição"
   ]
  },
  {
   "cell_type": "code",
   "execution_count": 31,
   "metadata": {},
   "outputs": [
    {
     "name": "stdout",
     "output_type": "stream",
     "text": [
      "E\n",
      "s\n",
      "t\n",
      "u\n",
      "d\n",
      "o\n",
      " \n",
      "P\n",
      "y\n",
      "t\n",
      "h\n",
      "o\n",
      "n\n",
      "fim\n"
     ]
    }
   ],
   "source": [
    "frase='Estudo Python'\n",
    "for letra in frase:\n",
    "  print(letra)\n",
    "else:\n",
    "  print(\"fim\")"
   ]
  },
  {
   "cell_type": "code",
   "execution_count": 32,
   "metadata": {},
   "outputs": [
    {
     "name": "stdout",
     "output_type": "stream",
     "text": [
      "E, s, t, u, d, o,  , P, y, t, h, o, n, "
     ]
    }
   ],
   "source": [
    "for letra in frase: print(letra, end = ', ')"
   ]
  },
  {
   "cell_type": "code",
   "execution_count": 33,
   "metadata": {},
   "outputs": [
    {
     "name": "stdout",
     "output_type": "stream",
     "text": [
      "0 1 2 3 4 5 6 7 8 9 "
     ]
    }
   ],
   "source": [
    "for numero in range(10):\n",
    "    print(numero, end=' ')"
   ]
  },
  {
   "cell_type": "code",
   "execution_count": 34,
   "metadata": {},
   "outputs": [
    {
     "name": "stdout",
     "output_type": "stream",
     "text": [
      "0 5 10 15 20 25 30 35 40 45 50 55 60 65 70 75 80 85 90 95 "
     ]
    }
   ],
   "source": [
    "for num in range(0,100,5):\n",
    "  print(num, end = ' ')"
   ]
  },
  {
   "cell_type": "markdown",
   "metadata": {},
   "source": [
    "### Multiplos de 5"
   ]
  },
  {
   "cell_type": "code",
   "execution_count": 35,
   "metadata": {},
   "outputs": [
    {
     "name": "stdout",
     "output_type": "stream",
     "text": [
      "5 10 15 20 25 30 35 40 45 50 "
     ]
    }
   ],
   "source": [
    "multiplos = []\n",
    "for num in range(1,51,1):\n",
    "  if num % 5 == 0:\n",
    "    print(num, end = ' ')\n",
    "    multiplos.append(num)"
   ]
  },
  {
   "cell_type": "markdown",
   "metadata": {},
   "source": [
    "### Divisores de 5"
   ]
  },
  {
   "cell_type": "code",
   "execution_count": 36,
   "metadata": {},
   "outputs": [
    {
     "name": "stdout",
     "output_type": "stream",
     "text": [
      "5 é múltiplo de 5, então, 5 é divisor de 5\n",
      "10 é múltiplo de 5, então, 5 é divisor de 10\n",
      "15 é múltiplo de 5, então, 5 é divisor de 15\n",
      "20 é múltiplo de 5, então, 5 é divisor de 20\n",
      "25 é múltiplo de 5, então, 5 é divisor de 25\n",
      "30 é múltiplo de 5, então, 5 é divisor de 30\n",
      "35 é múltiplo de 5, então, 5 é divisor de 35\n",
      "40 é múltiplo de 5, então, 5 é divisor de 40\n",
      "45 é múltiplo de 5, então, 5 é divisor de 45\n",
      "50 é múltiplo de 5, então, 5 é divisor de 50\n"
     ]
    }
   ],
   "source": [
    "for num in multiplos:\n",
    "    print(f'{num} é múltiplo de 5, então, 5 é divisor de {num}')\n"
   ]
  },
  {
   "cell_type": "markdown",
   "metadata": {},
   "source": [
    "# While"
   ]
  },
  {
   "cell_type": "code",
   "execution_count": 38,
   "metadata": {},
   "outputs": [
    {
     "name": "stdout",
     "output_type": "stream",
     "text": [
      "1) dia da semana: Terça\n",
      "2) dia da semana: Domingo\n",
      "3) dia da semana: Terça\n",
      "4) dia da semana: Sábado\n",
      "5) dia da semana: Sábado\n",
      "6) dia da semana: Terça\n",
      "7) dia da semana: Terça\n",
      "8) dia da semana: Segunda\n",
      "9) dia da semana: Sexta\n",
      "10) dia da semana: Domingo\n"
     ]
    }
   ],
   "source": [
    "quantidade_repeticoes = 1\n",
    "## utilizar comandos condicionais\n",
    "while quantidade_repeticoes <= 10:\n",
    "  numero = random.randint(0,6) #numero aleatório entre 1 e 7 (inclusive)\n",
    "  if numero == 0:\n",
    "    print(f\"{quantidade_repeticoes}) dia da semana: Segunda\")\n",
    "  elif numero == 1:\n",
    "    print(f\"{quantidade_repeticoes}) dia da semana: Terça\")\n",
    "  elif numero == 2:\n",
    "    print(f\"{quantidade_repeticoes}) dia da semana: Quarta\")\n",
    "  elif numero == 3:\n",
    "    print(f\"{quantidade_repeticoes}) dia da semana: Quinta\")\n",
    "  elif numero == 4:\n",
    "    print(f\"{quantidade_repeticoes}) dia da semana: Sexta\")\n",
    "  elif numero == 5:\n",
    "    print(f\"{quantidade_repeticoes}) dia da semana: Sábado\")\n",
    "  else:\n",
    "    print(f\"{quantidade_repeticoes}) dia da semana: Domingo\")\n",
    "  quantidade_repeticoes += 1"
   ]
  }
 ],
 "metadata": {
  "kernelspec": {
   "display_name": "Python 3",
   "language": "python",
   "name": "python3"
  },
  "language_info": {
   "codemirror_mode": {
    "name": "ipython",
    "version": 3
   },
   "file_extension": ".py",
   "mimetype": "text/x-python",
   "name": "python",
   "nbconvert_exporter": "python",
   "pygments_lexer": "ipython3",
   "version": "3.11.0"
  }
 },
 "nbformat": 4,
 "nbformat_minor": 2
}
