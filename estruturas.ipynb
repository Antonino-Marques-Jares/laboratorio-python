{
 "cells": [
  {
   "cell_type": "markdown",
   "metadata": {},
   "source": [
    "# Extrutura If, Elif e Else"
   ]
  },
  {
   "cell_type": "code",
   "execution_count": 11,
   "metadata": {},
   "outputs": [
    {
     "name": "stdout",
     "output_type": "stream",
     "text": [
      "Pode seguir em frente. O sinal está verde.\n"
     ]
    }
   ],
   "source": [
    "luz = 'verde'\n",
    "\n",
    "if (luz == 'verde'):\n",
    "    print('Pode seguir em frente. O sinal está verde.')\n",
    "elif (luz == 'amarelo'):\n",
    "    print('Atenção o sinal vai mudar ! O sinal está amarelo.')\n",
    "else:\n",
    "    print('Pare ! O sinal está vermelho.')"
   ]
  },
  {
   "cell_type": "markdown",
   "metadata": {},
   "source": [
    "# Estrutura de Repetição"
   ]
  },
  {
   "cell_type": "code",
   "execution_count": 12,
   "metadata": {},
   "outputs": [
    {
     "name": "stdout",
     "output_type": "stream",
     "text": [
      "E\n",
      "s\n",
      "t\n",
      "u\n",
      "d\n",
      "o\n",
      " \n",
      "P\n",
      "y\n",
      "t\n",
      "h\n",
      "o\n",
      "n\n",
      "fim\n"
     ]
    }
   ],
   "source": [
    "frase='Estudo Python'\n",
    "for letra in frase:\n",
    "  print(letra)\n",
    "else:\n",
    "  print(\"fim\")"
   ]
  },
  {
   "cell_type": "code",
   "execution_count": 13,
   "metadata": {},
   "outputs": [
    {
     "name": "stdout",
     "output_type": "stream",
     "text": [
      "E, s, t, u, d, o,  , P, y, t, h, o, n, "
     ]
    }
   ],
   "source": [
    "for letra in frase: print(letra, end = ', ')"
   ]
  },
  {
   "cell_type": "code",
   "execution_count": 14,
   "metadata": {},
   "outputs": [
    {
     "name": "stdout",
     "output_type": "stream",
     "text": [
      "0 1 2 3 4 5 6 7 8 9 "
     ]
    }
   ],
   "source": [
    "for numero in range(10):\n",
    "    print(numero, end=' ')"
   ]
  },
  {
   "cell_type": "code",
   "execution_count": 15,
   "metadata": {},
   "outputs": [
    {
     "name": "stdout",
     "output_type": "stream",
     "text": [
      "0 5 10 15 20 25 30 35 40 45 50 55 60 65 70 75 80 85 90 95 "
     ]
    }
   ],
   "source": [
    "for num in range(0,100,5):\n",
    "  print(num, end = ' ')"
   ]
  },
  {
   "cell_type": "markdown",
   "metadata": {},
   "source": [
    "### Multiplos de 5"
   ]
  },
  {
   "cell_type": "code",
   "execution_count": 26,
   "metadata": {},
   "outputs": [
    {
     "name": "stdout",
     "output_type": "stream",
     "text": [
      "5 10 15 20 25 30 35 40 45 50 "
     ]
    }
   ],
   "source": [
    "multiplos = []\n",
    "for num in range(1,51,1):\n",
    "  if num % 5 == 0:\n",
    "    print(num, end = ' ')\n",
    "    multiplos.append(num)"
   ]
  },
  {
   "cell_type": "markdown",
   "metadata": {},
   "source": [
    "### Divisores de 5"
   ]
  },
  {
   "cell_type": "code",
   "execution_count": 27,
   "metadata": {},
   "outputs": [
    {
     "name": "stdout",
     "output_type": "stream",
     "text": [
      "5 é múltiplo de 5, então, 5 é divisor de 5\n",
      "10 é múltiplo de 5, então, 5 é divisor de 10\n",
      "15 é múltiplo de 5, então, 5 é divisor de 15\n",
      "20 é múltiplo de 5, então, 5 é divisor de 20\n",
      "25 é múltiplo de 5, então, 5 é divisor de 25\n",
      "30 é múltiplo de 5, então, 5 é divisor de 30\n",
      "35 é múltiplo de 5, então, 5 é divisor de 35\n",
      "40 é múltiplo de 5, então, 5 é divisor de 40\n",
      "45 é múltiplo de 5, então, 5 é divisor de 45\n",
      "50 é múltiplo de 5, então, 5 é divisor de 50\n"
     ]
    }
   ],
   "source": [
    "for num in multiplos:\n",
    "    print(f'{num} é múltiplo de 5, então, 5 é divisor de {num}')\n"
   ]
  }
 ],
 "metadata": {
  "kernelspec": {
   "display_name": "Python 3",
   "language": "python",
   "name": "python3"
  },
  "language_info": {
   "codemirror_mode": {
    "name": "ipython",
    "version": 3
   },
   "file_extension": ".py",
   "mimetype": "text/x-python",
   "name": "python",
   "nbconvert_exporter": "python",
   "pygments_lexer": "ipython3",
   "version": "3.11.0"
  }
 },
 "nbformat": 4,
 "nbformat_minor": 2
}
