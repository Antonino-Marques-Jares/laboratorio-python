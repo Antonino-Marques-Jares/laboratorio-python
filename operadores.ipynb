{
 "cells": [
  {
   "cell_type": "markdown",
   "metadata": {},
   "source": [
    "# Operadores"
   ]
  },
  {
   "cell_type": "code",
   "execution_count": 2,
   "metadata": {},
   "outputs": [],
   "source": [
    "x = 2 #@param {type: \"number\"}\n",
    "y = 5 #@param {type: \"number\"}"
   ]
  },
  {
   "cell_type": "code",
   "execution_count": 3,
   "metadata": {},
   "outputs": [],
   "source": [
    "soma = x + y\n",
    "divisao = x / y\n",
    "divisao_inteira = x // y\n",
    "resto = x % y\n",
    "potencia = x ** y"
   ]
  },
  {
   "cell_type": "code",
   "execution_count": 4,
   "metadata": {},
   "outputs": [
    {
     "name": "stdout",
     "output_type": "stream",
     "text": [
      "7\n",
      "0.4\n",
      "0\n",
      "2\n",
      "32\n"
     ]
    }
   ],
   "source": [
    "print(soma)\n",
    "print(divisao)\n",
    "print(divisao_inteira)\n",
    "print(resto)\n",
    "print(potencia)"
   ]
  },
  {
   "cell_type": "code",
   "execution_count": 5,
   "metadata": {},
   "outputs": [
    {
     "name": "stdout",
     "output_type": "stream",
     "text": [
      "True\n",
      "True\n",
      "False\n",
      "True\n"
     ]
    }
   ],
   "source": [
    "print(x < y )\n",
    "print(x != y)\n",
    "print(x == y)\n",
    "print(0 == False)"
   ]
  },
  {
   "cell_type": "code",
   "execution_count": 16,
   "metadata": {},
   "outputs": [
    {
     "name": "stdout",
     "output_type": "stream",
     "text": [
      "61\n",
      "61\n"
     ]
    }
   ],
   "source": [
    "calculo1 = x**y * x + x -y \n",
    "print(calculo1)\n",
    "\n",
    "calculo2 = ((((x**y) * x) + x) -y)\n",
    "print(calculo2)"
   ]
  }
 ],
 "metadata": {
  "kernelspec": {
   "display_name": "Python 3",
   "language": "python",
   "name": "python3"
  },
  "language_info": {
   "codemirror_mode": {
    "name": "ipython",
    "version": 3
   },
   "file_extension": ".py",
   "mimetype": "text/x-python",
   "name": "python",
   "nbconvert_exporter": "python",
   "pygments_lexer": "ipython3",
   "version": "3.11.0"
  }
 },
 "nbformat": 4,
 "nbformat_minor": 2
}
